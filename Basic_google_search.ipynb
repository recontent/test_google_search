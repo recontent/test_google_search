{
  "nbformat": 4,
  "nbformat_minor": 0,
  "metadata": {
    "colab": {
      "name": "Basic_google_search.ipynb",
      "provenance": []
    },
    "kernelspec": {
      "name": "python3",
      "display_name": "Python 3"
    },
    "language_info": {
      "name": "python"
    }
  },
  "cells": [
    {
      "cell_type": "code",
      "execution_count": null,
      "metadata": {
        "colab": {
          "base_uri": "https://localhost:8080/"
        },
        "id": "xasTByZu9xMF",
        "outputId": "e2062c9f-7064-4b0b-e441-03e1d7183a60"
      },
      "outputs": [
        {
          "output_type": "stream",
          "name": "stdout",
          "text": [
            "Requirement already satisfied: beautifulsoup4 in /usr/local/lib/python3.7/dist-packages (4.6.3)\n"
          ]
        }
      ],
      "source": [
        "!pip install beautifulsoup4"
      ]
    },
    {
      "cell_type": "code",
      "source": [
        "!pip install google"
      ],
      "metadata": {
        "colab": {
          "base_uri": "https://localhost:8080/"
        },
        "id": "DXX35psR91eK",
        "outputId": "0c0068dc-6820-492a-9766-e47ef525f85d"
      },
      "execution_count": null,
      "outputs": [
        {
          "output_type": "stream",
          "name": "stdout",
          "text": [
            "Requirement already satisfied: google in /usr/local/lib/python3.7/dist-packages (2.0.3)\n",
            "Requirement already satisfied: beautifulsoup4 in /usr/local/lib/python3.7/dist-packages (from google) (4.6.3)\n"
          ]
        }
      ]
    },
    {
      "cell_type": "code",
      "source": [
        "try:\n",
        "    from googlesearch import search\n",
        "except ImportError:\n",
        "    print(\"No module named 'google' found\")\n",
        " \n",
        "# to search\n",
        "query = \"Machine learning\"\n",
        " \n",
        "for j in search(query, tld=\"co.in\", num=10, stop=10, pause=2):\n",
        "    print(j)"
      ],
      "metadata": {
        "colab": {
          "base_uri": "https://localhost:8080/"
        },
        "id": "knxf_BUt96hX",
        "outputId": "208bf08b-f591-41ae-cced-8c19bacfad20"
      },
      "execution_count": null,
      "outputs": [
        {
          "output_type": "stream",
          "name": "stdout",
          "text": [
            "https://www.techtarget.com/searchenterpriseai/definition/machine-learning-ML\n",
            "https://en.wikipedia.org/wiki/Machine_learning\n",
            "https://en.wikipedia.org/wiki/Outline_of_machine_learning\n",
            "https://en.wikipedia.org/wiki/Timeline_of_machine_learning\n",
            "https://en.wikipedia.org/wiki/Machine_Learning_(journal)\n",
            "https://en.wikipedia.org/wiki/Adversarial_machine_learning\n",
            "https://www.britannica.com/technology/machine-learning\n",
            "https://www.coursera.org/learn/machine-learning\n",
            "https://www.coursera.org/learn/machine-learning#about\n",
            "https://www.coursera.org/learn/machine-learning#instructors\n"
          ]
        }
      ]
    }
  ]
}